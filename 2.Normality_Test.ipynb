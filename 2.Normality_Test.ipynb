{
  "nbformat": 4,
  "nbformat_minor": 0,
  "metadata": {
    "colab": {
      "name": "1.Normality Test.ipynb",
      "provenance": [],
      "collapsed_sections": [],
      "authorship_tag": "ABX9TyPHAOSV/oxQqekE3M+hiBwg",
      "include_colab_link": true
    },
    "kernelspec": {
      "name": "python3",
      "display_name": "Python 3"
    },
    "language_info": {
      "name": "python"
    }
  },
  "cells": [
    {
      "cell_type": "markdown",
      "metadata": {
        "id": "view-in-github",
        "colab_type": "text"
      },
      "source": [
        "<a href=\"https://colab.research.google.com/github/biranchi2018/My_Stats_Examples/blob/main/2.Normality_Test.ipynb\" target=\"_parent\"><img src=\"https://colab.research.google.com/assets/colab-badge.svg\" alt=\"Open In Colab\"/></a>"
      ]
    },
    {
      "cell_type": "markdown",
      "source": [
        "## Introduction to Normality Tests\n",
        "\n",
        "\n",
        "https://towardsdatascience.com/normality-tests-in-python-31e04aa4f411\n",
        "\n",
        "https://machinelearningmastery.com/a-gentle-introduction-to-normality-tests-in-python/"
      ],
      "metadata": {
        "id": "rXJzatob4imD"
      }
    },
    {
      "cell_type": "markdown",
      "source": [
        "### Using Box Plot"
      ],
      "metadata": {
        "id": "75w_0mvr5IBZ"
      }
    },
    {
      "cell_type": "markdown",
      "source": [
        "Box Plot also know as a box and whisker plot is another way to visualize the normality of a variable. It displays the distribution of data based on a five-number summary i.e. minimum, first quartile (Q1), median (Q2), third quartile (Q3) and maximum."
      ],
      "metadata": {
        "id": "kxlgGQZl54wA"
      }
    },
    {
      "cell_type": "markdown",
      "source": [
        "If your variable has a normal distribution, we should see the mean and median in the center.\n"
      ],
      "metadata": {
        "id": "Mt89mFM6590N"
      }
    },
    {
      "cell_type": "code",
      "execution_count": 12,
      "metadata": {
        "id": "2V_Izala4Fv7"
      },
      "outputs": [],
      "source": [
        "import seaborn as sns\n",
        "import numpy as np\n",
        "import matplotlib.pyplot as plt"
      ]
    },
    {
      "cell_type": "code",
      "source": [
        "measurements = np.random.normal(loc=20, scale=5, size=150)\n",
        "measurements.shape"
      ],
      "metadata": {
        "colab": {
          "base_uri": "https://localhost:8080/"
        },
        "id": "jUFmf5Us5MYs",
        "outputId": "a7edf920-4dcc-4233-dbf1-5cb217efc5ac"
      },
      "execution_count": 4,
      "outputs": [
        {
          "output_type": "execute_result",
          "data": {
            "text/plain": [
              "(150,)"
            ]
          },
          "metadata": {},
          "execution_count": 4
        }
      ]
    },
    {
      "cell_type": "code",
      "source": [
        "measurements[:10]"
      ],
      "metadata": {
        "colab": {
          "base_uri": "https://localhost:8080/"
        },
        "id": "l-fx7wyB5V5X",
        "outputId": "8d0433a5-1a82-4ed6-cee2-0196aeb846ab"
      },
      "execution_count": 5,
      "outputs": [
        {
          "output_type": "execute_result",
          "data": {
            "text/plain": [
              "array([18.24816652, 19.35002433, 12.49571111, 19.55972503, 20.40212683,\n",
              "       19.64294801, 11.38674928, 23.56529491, 15.04258188, 17.20542063])"
            ]
          },
          "metadata": {},
          "execution_count": 5
        }
      ]
    },
    {
      "cell_type": "code",
      "source": [
        "measurements[-10:]"
      ],
      "metadata": {
        "colab": {
          "base_uri": "https://localhost:8080/"
        },
        "id": "w_wHcizh5Z62",
        "outputId": "ae3fe39f-3671-40c2-bbc2-6e594a6ec4ba"
      },
      "execution_count": 6,
      "outputs": [
        {
          "output_type": "execute_result",
          "data": {
            "text/plain": [
              "array([23.99486466, 23.29069257, 24.83478386, 19.62023524, 20.59723191,\n",
              "       14.13301967, 23.49735861, 21.48735809, 21.89167464, 18.84924352])"
            ]
          },
          "metadata": {},
          "execution_count": 6
        }
      ]
    },
    {
      "cell_type": "code",
      "source": [
        "ax = sns.boxplot(x=measurements)"
      ],
      "metadata": {
        "colab": {
          "base_uri": "https://localhost:8080/",
          "height": 265
        },
        "id": "ulvKsGLa5cgm",
        "outputId": "f509d768-8657-41d8-eaf5-beb61291f85a"
      },
      "execution_count": 7,
      "outputs": [
        {
          "output_type": "display_data",
          "data": {
            "text/plain": [
              "<Figure size 432x288 with 1 Axes>"
            ],
            "image/png": "[encoded data removed]"
          },
          "metadata": {
            "needs_background": "light"
          }
        }
      ]
    },
    {
      "cell_type": "code",
      "source": [
        ""
      ],
      "metadata": {
        "id": "1v6xe7qS5hs9"
      },
      "execution_count": null,
      "outputs": []
    },
    {
      "cell_type": "markdown",
      "source": [
        "### Using Histogram"
      ],
      "metadata": {
        "id": "sjNVgKTa6AX6"
      }
    },
    {
      "cell_type": "markdown",
      "source": [
        "One of the popular and commonly used plot to visualize the distribution of the data is a histogram. It also allows us to inspect data for its underlying outliers, skewness, etc. It divides the data into bins of equal width. Each bin is plotted as a bar and height of the bar depends on the number of the data points are in that bin.\n"
      ],
      "metadata": {
        "id": "otEBoUBR6Lkf"
      }
    },
    {
      "cell_type": "markdown",
      "source": [
        "If your variable has a normal distribution, we should see a bell curve.\n"
      ],
      "metadata": {
        "id": "RG5PDlGY6OFr"
      }
    },
    {
      "cell_type": "code",
      "source": [
        "import seaborn as sns\n",
        "import numpy as np\n",
        "import matplotlib.pyplot as plt"
      ],
      "metadata": {
        "id": "SLpW8xh26CNd"
      },
      "execution_count": 20,
      "outputs": []
    },
    {
      "cell_type": "code",
      "source": [
        "measurements = np.random.normal(loc=20, scale=5, size=150)\n",
        "measurements.shape"
      ],
      "metadata": {
        "colab": {
          "base_uri": "https://localhost:8080/"
        },
        "id": "TUJb_rVq6RHq",
        "outputId": "712e9751-f5da-43d7-b3e1-9395ab80ff81"
      },
      "execution_count": 10,
      "outputs": [
        {
          "output_type": "execute_result",
          "data": {
            "text/plain": [
              "(150,)"
            ]
          },
          "metadata": {},
          "execution_count": 10
        }
      ]
    },
    {
      "cell_type": "code",
      "source": [
        "measurements[:10]"
      ],
      "metadata": {
        "colab": {
          "base_uri": "https://localhost:8080/"
        },
        "id": "gKPuPs4P9iXA",
        "outputId": "37874b31-e3a7-4190-b79b-6fb7322f74a6"
      },
      "execution_count": 29,
      "outputs": [
        {
          "output_type": "execute_result",
          "data": {
            "text/plain": [
              "array([25.83532642, 12.68367733, 22.10927067, 28.77129575, 29.33208503,\n",
              "       25.16799733, 10.91363578, 19.48227915, 15.85777408, 22.34267742])"
            ]
          },
          "metadata": {},
          "execution_count": 29
        }
      ]
    },
    {
      "cell_type": "code",
      "source": [
        "min(measurements), max(measurements)"
      ],
      "metadata": {
        "colab": {
          "base_uri": "https://localhost:8080/"
        },
        "id": "bwyn2LV69_Vf",
        "outputId": "fd38bd05-e6d9-4298-b2bf-53800fbe6f51"
      },
      "execution_count": 30,
      "outputs": [
        {
          "output_type": "execute_result",
          "data": {
            "text/plain": [
              "(5.896614508833689, 35.04193442289075)"
            ]
          },
          "metadata": {},
          "execution_count": 30
        }
      ]
    },
    {
      "cell_type": "code",
      "source": [
        "plt.scatter(range(measurements.shape[0]), measurements)\n",
        "plt.show()"
      ],
      "metadata": {
        "colab": {
          "base_uri": "https://localhost:8080/",
          "height": 265
        },
        "id": "w7Eper_09JZQ",
        "outputId": "52f58b0d-61c2-477f-b1b1-124556217922"
      },
      "execution_count": 28,
      "outputs": [
        {
          "output_type": "display_data",
          "data": {
            "text/plain": [
              "<Figure size 432x288 with 1 Axes>"
            ],
            "image/png": "[encoded data removed]"
          },
          "metadata": {
            "needs_background": "light"
          }
        }
      ]
    },
    {
      "cell_type": "code",
      "source": [
        "ax = sns.distplot(x=measurements)\n",
        "plt.show()"
      ],
      "metadata": {
        "colab": {
          "base_uri": "https://localhost:8080/",
          "height": 320
        },
        "id": "jeEo3gQ_6T5L",
        "outputId": "15a2aaa5-7430-4576-960d-e443bae4dea5"
      },
      "execution_count": 13,
      "outputs": [
        {
          "output_type": "stream",
          "name": "stderr",
          "text": [
            "/usr/local/lib/python3.7/dist-packages/seaborn/distributions.py:2619: FutureWarning: `distplot` is a deprecated function and will be removed in a future version. Please adapt your code to use either `displot` (a figure-level function with similar flexibility) or `histplot` (an axes-level function for histograms).\n",
            "  warnings.warn(msg, FutureWarning)\n"
          ]
        },
        {
          "output_type": "display_data",
          "data": {
            "text/plain": [
              "<Figure size 432x288 with 1 Axes>"
            ],
            "image/png": "[encoded data removed]"
          },
          "metadata": {
            "needs_background": "light"
          }
        }
      ]
    },
    {
      "cell_type": "code",
      "source": [
        "ax = sns.displot(x=measurements)\n",
        "plt.show()"
      ],
      "metadata": {
        "colab": {
          "base_uri": "https://localhost:8080/",
          "height": 369
        },
        "id": "Nw2JGjCq6YLo",
        "outputId": "b6ba770a-1e1f-4f2d-8caf-1dd79005d020"
      },
      "execution_count": 14,
      "outputs": [
        {
          "output_type": "display_data",
          "data": {
            "text/plain": [
              "<Figure size 360x360 with 1 Axes>"
            ],
            "image/png": "[encoded data removed]"
          },
          "metadata": {
            "needs_background": "light"
          }
        }
      ]
    },
    {
      "cell_type": "code",
      "source": [
        "ax = sns.histplot(x=measurements)\n",
        "plt.show()"
      ],
      "metadata": {
        "colab": {
          "base_uri": "https://localhost:8080/",
          "height": 265
        },
        "id": "T6rkIww16onH",
        "outputId": "a38e56e7-a200-4bc5-bae2-5d007a92b00a"
      },
      "execution_count": 15,
      "outputs": [
        {
          "output_type": "display_data",
          "data": {
            "text/plain": [
              "<Figure size 432x288 with 1 Axes>"
            ],
            "image/png": "[encoded data removed]"
          },
          "metadata": {
            "needs_background": "light"
          }
        }
      ]
    },
    {
      "cell_type": "code",
      "source": [
        ""
      ],
      "metadata": {
        "id": "3aePnQ346qk_"
      },
      "execution_count": null,
      "outputs": []
    },
    {
      "cell_type": "markdown",
      "source": [
        "### Using Shapiro-Wilk Test"
      ],
      "metadata": {
        "id": "lETgnanl7LOW"
      }
    },
    {
      "cell_type": "markdown",
      "source": [
        "The Shapiro-Wilk test for normality is available when using the Distribution platform to examine a continuous variable. \n",
        "\n",
        "The null hypothesis for this test is that the data are normally distributed."
      ],
      "metadata": {
        "id": "ooU_uL5u77HQ"
      }
    },
    {
      "cell_type": "markdown",
      "source": [
        "It is the most powerful test to check the normality of a variable. It was proposed in 1965 by Samuel Sanford Shapiro and Martin Wilk."
      ],
      "metadata": {
        "id": "l6_Bz0Nl7Vij"
      }
    },
    {
      "cell_type": "markdown",
      "source": [
        "If the p-value ≤ 0.05, then we reject the null hypothesis i.e. we assume the distribution of our variable is not normal/gaussian.\n",
        "\n",
        "If the p-value > 0.05, then we fail to reject the null hypothesis i.e. we assume the distribution of our variable is normal/gaussian.\n"
      ],
      "metadata": {
        "id": "HVEG7OXr7Y3I"
      }
    },
    {
      "cell_type": "code",
      "source": [
        "import numpy as np\n",
        "from scipy.stats import shapiro"
      ],
      "metadata": {
        "id": "oiQVu41q7PaN"
      },
      "execution_count": 16,
      "outputs": []
    },
    {
      "cell_type": "code",
      "source": [
        "data = np.random.normal(loc=20, scale=5, size=150)"
      ],
      "metadata": {
        "id": "TzuAX1N57ihM"
      },
      "execution_count": 40,
      "outputs": []
    },
    {
      "cell_type": "code",
      "source": [
        "min(data), max(data)"
      ],
      "metadata": {
        "colab": {
          "base_uri": "https://localhost:8080/"
        },
        "id": "cNFSoscI-J0X",
        "outputId": "3fbe86ad-91c5-42f7-fce1-fd729b7e3b0a"
      },
      "execution_count": 41,
      "outputs": [
        {
          "output_type": "execute_result",
          "data": {
            "text/plain": [
              "(8.184074820986096, 34.95473193930077)"
            ]
          },
          "metadata": {},
          "execution_count": 41
        }
      ]
    },
    {
      "cell_type": "code",
      "source": [
        "plt.scatter(range(data.shape[0]), data)\n",
        "plt.show()"
      ],
      "metadata": {
        "colab": {
          "base_uri": "https://localhost:8080/",
          "height": 266
        },
        "id": "Ow6SgrX8-Qd7",
        "outputId": "32234b2f-8ac8-40c0-9c02-295fc08fde8f"
      },
      "execution_count": 36,
      "outputs": [
        {
          "output_type": "display_data",
          "data": {
            "text/plain": [
              "<Figure size 432x288 with 1 Axes>"
            ],
            "image/png": "[encoded data removed]"
          },
          "metadata": {
            "needs_background": "light"
          }
        }
      ]
    },
    {
      "cell_type": "code",
      "source": [
        "stat, p = shapiro(data)\n",
        "print(f'stat : {stat}, p : {p}')"
      ],
      "metadata": {
        "colab": {
          "base_uri": "https://localhost:8080/"
        },
        "id": "jUyDZhh37o77",
        "outputId": "0df80d3c-311d-48b1-8181-b82678ec73b4"
      },
      "execution_count": 37,
      "outputs": [
        {
          "output_type": "stream",
          "name": "stdout",
          "text": [
            "stat : 0.9904895424842834, p : 0.4091948866844177\n"
          ]
        }
      ]
    },
    {
      "cell_type": "code",
      "source": [
        "if p < 0.05:\n",
        "  print('Probably not Gaussian')\n",
        "else:\n",
        "  print('Probably Gaussian')"
      ],
      "metadata": {
        "colab": {
          "base_uri": "https://localhost:8080/"
        },
        "id": "u8qQKUOO7syp",
        "outputId": "7160a0ba-f648-4ae7-8390-c0f549090d1a"
      },
      "execution_count": 38,
      "outputs": [
        {
          "output_type": "stream",
          "name": "stdout",
          "text": [
            "Probably Gaussian\n"
          ]
        }
      ]
    },
    {
      "cell_type": "code",
      "source": [
        ""
      ],
      "metadata": {
        "id": "gtlteSjX8Nq6"
      },
      "execution_count": null,
      "outputs": []
    },
    {
      "cell_type": "markdown",
      "source": [
        "### Using D’Agostino’s K-squared test\n"
      ],
      "metadata": {
        "id": "l3ji6EpK-l7z"
      }
    },
    {
      "cell_type": "markdown",
      "source": [
        "D’Agostino’s K-squared test check’s normality of a variable based on skewness and kurtosis. \n",
        "\n",
        "It was named by Ralph D’Agostino."
      ],
      "metadata": {
        "id": "a_kQ2rQT-qZS"
      }
    },
    {
      "cell_type": "markdown",
      "source": [
        "Skewness is the measure of symmetry.\n",
        "\n",
        "Kurtosis is a measure of whether the data are heavy-tailed or light-tailed relative to a normal distribution"
      ],
      "metadata": {
        "id": "YAfPeYfM-uYz"
      }
    },
    {
      "cell_type": "markdown",
      "source": [
        "\n",
        "If the p-value ≤ 0.05, then we reject the null hypothesis i.e. we assume the distribution of our variable is not normal/gaussian.\n",
        "\n",
        "If the p-value > 0.05, then we fail to reject the null hypothesis i.e. we assume the distribution of our variable is normal/gaussian.\n"
      ],
      "metadata": {
        "id": "Lx6dg_lZ_i4n"
      }
    },
    {
      "cell_type": "code",
      "source": [
        "import numpy as np\n",
        "from scipy.stats import normaltest"
      ],
      "metadata": {
        "id": "G42Mnh78-pp4"
      },
      "execution_count": 33,
      "outputs": []
    },
    {
      "cell_type": "code",
      "source": [
        "data = np.random.normal(loc=20, scale=5, size=150)"
      ],
      "metadata": {
        "id": "BYG4II4D_AV5"
      },
      "execution_count": 42,
      "outputs": []
    },
    {
      "cell_type": "code",
      "source": [
        "min(data), max(data)"
      ],
      "metadata": {
        "colab": {
          "base_uri": "https://localhost:8080/"
        },
        "id": "nWyBDtj6_PMA",
        "outputId": "3c7c5ba6-49da-4f60-d311-6711de92bfb0"
      },
      "execution_count": 43,
      "outputs": [
        {
          "output_type": "execute_result",
          "data": {
            "text/plain": [
              "(7.84020961381778, 33.767871586976185)"
            ]
          },
          "metadata": {},
          "execution_count": 43
        }
      ]
    },
    {
      "cell_type": "code",
      "source": [
        "plt.scatter(range(data.shape[0]), data)\n",
        "plt.show()"
      ],
      "metadata": {
        "colab": {
          "base_uri": "https://localhost:8080/",
          "height": 269
        },
        "id": "CYmwjn4U_Pco",
        "outputId": "280efa9f-2c0d-440c-c9a9-c54185fc1251"
      },
      "execution_count": 44,
      "outputs": [
        {
          "output_type": "display_data",
          "data": {
            "text/plain": [
              "<Figure size 432x288 with 1 Axes>"
            ],
            "image/png": "[encoded data removed]"
          },
          "metadata": {
            "needs_background": "light"
          }
        }
      ]
    },
    {
      "cell_type": "code",
      "source": [
        "stat, p = normaltest(data)\n",
        "print(f'stat : {stat}, p : {p}')"
      ],
      "metadata": {
        "colab": {
          "base_uri": "https://localhost:8080/"
        },
        "id": "2qmv1AqB_Suo",
        "outputId": "a4cd10bb-c1ac-489e-9e37-e9427427a9bf"
      },
      "execution_count": 45,
      "outputs": [
        {
          "output_type": "stream",
          "name": "stdout",
          "text": [
            "stat : 0.6867860143448861, p : 0.7093593734495035\n"
          ]
        }
      ]
    },
    {
      "cell_type": "code",
      "source": [
        "if p < 0.05:\n",
        "  print('Probably not Gaussian')\n",
        "else:\n",
        "  print('Probably Gaussian')"
      ],
      "metadata": {
        "colab": {
          "base_uri": "https://localhost:8080/"
        },
        "id": "N58mqhgW_Vz3",
        "outputId": "78319a13-8785-4037-dd4c-abd86d2fa74b"
      },
      "execution_count": 46,
      "outputs": [
        {
          "output_type": "stream",
          "name": "stdout",
          "text": [
            "Probably Gaussian\n"
          ]
        }
      ]
    },
    {
      "cell_type": "code",
      "source": [
        ""
      ],
      "metadata": {
        "id": "QinKB1gC_ZuY"
      },
      "execution_count": null,
      "outputs": []
    },
    {
      "cell_type": "markdown",
      "source": [
        "### Using Chi-Square Normality Test"
      ],
      "metadata": {
        "id": "N9Ej_t2J_xxB"
      }
    },
    {
      "cell_type": "markdown",
      "source": [
        "Another way of checking the normality of a variable is with Chi-Square Normality Test. \n",
        "\n",
        "It is not as popular as other methods.\n"
      ],
      "metadata": {
        "id": "oulNlLmwADx6"
      }
    },
    {
      "cell_type": "markdown",
      "source": [
        "\n",
        "If the p-value ≤ 0.05, then we reject the null hypothesis i.e. we assume the distribution of our variable is not normal/gaussian.\n",
        "\n",
        "If the p-value > 0.05, then we fail to reject the null hypothesis i.e. we assume the distribution of our variable is normal/gaussian.\n"
      ],
      "metadata": {
        "id": "MqUlu8A8AIZ3"
      }
    },
    {
      "cell_type": "code",
      "source": [
        "import numpy as np\n",
        "from scipy.stats import chisquare"
      ],
      "metadata": {
        "id": "9MI7ne-i_2wN"
      },
      "execution_count": 55,
      "outputs": []
    },
    {
      "cell_type": "code",
      "source": [
        "data = np.random.normal(loc=20, scale=5, size=150)"
      ],
      "metadata": {
        "id": "uYPH4Z7tAPZo"
      },
      "execution_count": 56,
      "outputs": []
    },
    {
      "cell_type": "code",
      "source": [
        "data[:10]"
      ],
      "metadata": {
        "id": "8iEb7F_GBCfi",
        "outputId": "cf0345f4-b8b7-4a12-a681-e0b01dbb0ac1",
        "colab": {
          "base_uri": "https://localhost:8080/"
        }
      },
      "execution_count": 63,
      "outputs": [
        {
          "output_type": "execute_result",
          "data": {
            "text/plain": [
              "array([17.54163829, 28.40103899, 21.05440114, 21.30913389, 17.02742999,\n",
              "       11.55130405, 16.28850594, 22.8109995 , 16.4404418 ,  8.66408658])"
            ]
          },
          "metadata": {},
          "execution_count": 63
        }
      ]
    },
    {
      "cell_type": "code",
      "source": [
        "data[-10:]"
      ],
      "metadata": {
        "id": "wu9gjg2uBEEY",
        "outputId": "6b90d592-2f82-46b7-e3b9-9e606dba73ad",
        "colab": {
          "base_uri": "https://localhost:8080/"
        }
      },
      "execution_count": 64,
      "outputs": [
        {
          "output_type": "execute_result",
          "data": {
            "text/plain": [
              "array([28.32537283, 19.54488237, 19.58812661, 25.97348956, 18.03126322,\n",
              "       16.06540775, 21.05927262, 33.05228348, 28.53910921, 23.77267317])"
            ]
          },
          "metadata": {},
          "execution_count": 64
        }
      ]
    },
    {
      "cell_type": "code",
      "source": [
        "min(data), max(data)"
      ],
      "metadata": {
        "colab": {
          "base_uri": "https://localhost:8080/"
        },
        "id": "KrFCNfX8ARt3",
        "outputId": "75b039da-3721-4c79-ca2c-cc4fa178c253"
      },
      "execution_count": 65,
      "outputs": [
        {
          "output_type": "execute_result",
          "data": {
            "text/plain": [
              "(8.053415516401506, 33.05228347611773)"
            ]
          },
          "metadata": {},
          "execution_count": 65
        }
      ]
    },
    {
      "cell_type": "code",
      "source": [
        "plt.scatter(range(data.shape[0]), data)\n",
        "plt.show()"
      ],
      "metadata": {
        "colab": {
          "base_uri": "https://localhost:8080/",
          "height": 265
        },
        "id": "qimjfo1YATkw",
        "outputId": "ad73b456-dced-4664-9a66-4661c144f3c7"
      },
      "execution_count": 66,
      "outputs": [
        {
          "output_type": "display_data",
          "data": {
            "text/plain": [
              "<Figure size 432x288 with 1 Axes>"
            ],
            "image/png": "[encoded data removed]"
          },
          "metadata": {
            "needs_background": "light"
          }
        }
      ]
    },
    {
      "cell_type": "code",
      "source": [
        "stat, p = chisquare(data)\n",
        "print(f'stat : {stat}, p : {p}')"
      ],
      "metadata": {
        "colab": {
          "base_uri": "https://localhost:8080/"
        },
        "id": "SOhTsEUjAVtg",
        "outputId": "5917a797-0b23-4f0b-c02a-586fdc9d3853"
      },
      "execution_count": 67,
      "outputs": [
        {
          "output_type": "stream",
          "name": "stdout",
          "text": [
            "stat : 193.43637248185746, p : 0.008356444289042373\n"
          ]
        }
      ]
    },
    {
      "cell_type": "code",
      "source": [
        "if p < 0.05:\n",
        "  print('Probably not Gaussian')\n",
        "else:\n",
        "  print('Probably Gaussian')"
      ],
      "metadata": {
        "colab": {
          "base_uri": "https://localhost:8080/"
        },
        "id": "Co4HIm_LAZbg",
        "outputId": "92aa1b93-5384-4519-c49c-4ee96a7a6961"
      },
      "execution_count": 68,
      "outputs": [
        {
          "output_type": "stream",
          "name": "stdout",
          "text": [
            "Probably not Gaussian\n"
          ]
        }
      ]
    },
    {
      "cell_type": "code",
      "source": [
        ""
      ],
      "metadata": {
        "id": "DedwXm7OAeaQ"
      },
      "execution_count": 60,
      "outputs": []
    }
  ]
}