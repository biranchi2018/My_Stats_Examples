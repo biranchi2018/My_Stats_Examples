{
  "nbformat": 4,
  "nbformat_minor": 0,
  "metadata": {
    "colab": {
      "name": "T-Test.ipynb",
      "provenance": [],
      "collapsed_sections": [],
      "authorship_tag": "ABX9TyMfgzyQP/Aq/UbNvys8Z4U1",
      "include_colab_link": true
    },
    "kernelspec": {
      "name": "python3",
      "display_name": "Python 3"
    }
  },
  "cells": [
    {
      "cell_type": "markdown",
      "metadata": {
        "id": "view-in-github",
        "colab_type": "text"
      },
      "source": [
        "<a href=\"https://colab.research.google.com/github/biranchi2018/My_Stats_Examples/blob/main/1.T_Test.ipynb\" target=\"_parent\"><img src=\"https://colab.research.google.com/assets/colab-badge.svg\" alt=\"Open In Colab\"/></a>"
      ]
    },
    {
      "cell_type": "code",
      "metadata": {
        "id": "iHZGBv6ubwtu"
      },
      "source": [
        "from numpy.random import seed\n",
        "from numpy.random import randn\n",
        "from scipy.stats import ttest_ind\n"
      ],
      "execution_count": 15,
      "outputs": []
    },
    {
      "cell_type": "code",
      "metadata": {
        "id": "DUlVpFGKcQXz"
      },
      "source": [
        "# seed the random number generator\n",
        "seed(1)\n",
        "\n",
        "# generate two independent samples\n",
        "data1 = 5 * randn(100) + 50\n",
        "data2 = 5 * randn(100) + 51"
      ],
      "execution_count": 21,
      "outputs": []
    },
    {
      "cell_type": "code",
      "metadata": {
        "id": "X2ZqT_QGcCaB",
        "outputId": "88b08e4f-0058-4859-fd5d-fef166376821",
        "colab": {
          "base_uri": "https://localhost:8080/"
        }
      },
      "source": [
        "data1"
      ],
      "execution_count": 22,
      "outputs": [
        {
          "output_type": "execute_result",
          "data": {
            "text/plain": [
              "array([58.12172682, 46.94121793, 47.35914124, 44.63515689, 54.32703815,\n",
              "       38.49230652, 58.72405882, 46.1939655 , 51.59519548, 48.75314812,\n",
              "       57.31053969, 39.69929645, 48.38791398, 48.07972823, 55.66884721,\n",
              "       44.50054366, 49.13785896, 45.61070791, 50.21106873, 52.91407607,\n",
              "       44.49690411, 55.72361855, 54.5079536 , 52.51247169, 54.50427975,\n",
              "       46.5813607 , 49.38554887, 45.32115283, 48.6605596 , 52.65177733,\n",
              "       46.54169624, 48.01623237, 46.5641365 , 45.77397179, 46.64376935,\n",
              "       49.93667701, 44.41344826, 51.17207849, 58.29901089, 53.7102208 ,\n",
              "       49.04082224, 45.56185518, 46.26420853, 58.46227301, 50.25403877,\n",
              "       46.81502177, 50.95457742, 60.50127568, 50.60079476, 53.08601555,\n",
              "       51.5008516 , 48.23875077, 44.28740901, 48.25328639, 48.95552883,\n",
              "       52.93311596, 54.19491707, 54.65551041, 51.42793663, 54.42570582,\n",
              "       46.2280103 , 56.26434078, 52.5646491 , 48.50953582, 52.44259073,\n",
              "       49.62214143, 55.65814694, 57.59908408, 60.92787703, 43.01751832,\n",
              "       42.77943097, 47.47767069, 50.80018535, 54.38084461, 51.57817474,\n",
              "       39.88899392, 48.46897994, 54.13987321, 51.15047368, 53.8100559 ,\n",
              "       48.88835929, 48.99620966, 50.93280695, 52.05025824, 50.9914986 ,\n",
              "       50.59504323, 46.64668857, 51.88781893, 50.60910635, 55.64741954,\n",
              "       55.9945894 , 50.92578209, 48.12357525, 46.80634796, 52.11747177,\n",
              "       50.38670034, 48.28073162, 50.21798428, 46.89999578, 53.49016017])"
            ]
          },
          "metadata": {
            "tags": []
          },
          "execution_count": 22
        }
      ]
    },
    {
      "cell_type": "code",
      "metadata": {
        "id": "9VXdUsxTcEIE",
        "outputId": "77c13097-41b0-4e69-b76a-8d84d4fac4e3",
        "colab": {
          "base_uri": "https://localhost:8080/"
        }
      },
      "source": [
        "data2"
      ],
      "execution_count": 23,
      "outputs": [
        {
          "output_type": "execute_result",
          "data": {
            "text/plain": [
              "array([48.76435718, 57.12253852, 53.01745821, 53.96789262, 45.52544077,\n",
              "       51.84691217, 54.70278226, 46.23149699, 49.66890747, 51.16307273,\n",
              "       44.1344134 , 52.57579696, 55.23080324, 46.7024203 , 52.75272989,\n",
              "       44.43858294, 50.80652245, 42.92113823, 56.60708854, 53.04450269,\n",
              "       50.87691522, 47.1241919 , 57.36877965, 60.83550875, 41.71009068,\n",
              "       57.18082015, 59.13825377, 52.69005848, 45.00365984, 55.31672659,\n",
              "       50.09539849, 47.98039686, 44.84970932, 53.75268748, 54.96403433,\n",
              "       47.88234635, 53.60288169, 45.27829305, 55.00930516, 51.23283649,\n",
              "       50.06715114, 50.49127064, 55.34443079, 54.7520582 , 53.64732662,\n",
              "       51.68850605, 51.38910564, 54.09190131, 52.1624728 , 54.41275703,\n",
              "       49.44941613, 38.82581118, 56.19412301, 61.93489823, 53.20682222,\n",
              "       50.49922383, 50.31777628, 50.40472906, 51.08704704, 45.38990636,\n",
              "       48.41452771, 46.01486586, 52.24399581, 49.51679424, 53.47605662,\n",
              "       50.1264842 , 55.93167594, 52.06766951, 61.95349864, 41.51819539,\n",
              "       47.76541656, 55.50743446, 63.64162853, 49.75682611, 51.21834497,\n",
              "       49.86842879, 57.65728556, 49.56346068, 54.4003492 , 49.40099201,\n",
              "       44.63720622, 52.5677386 , 53.51592407, 57.46612941, 50.44776487,\n",
              "       47.91318968, 53.81380548, 52.20368546, 52.40332539, 50.63443648,\n",
              "       56.80169285, 52.84746358, 60.52329354, 56.55528349, 54.29524898,\n",
              "       42.8628083 , 54.0115964 , 53.10141102, 55.05475836, 56.22221047])"
            ]
          },
          "metadata": {
            "tags": []
          },
          "execution_count": 23
        }
      ]
    },
    {
      "cell_type": "code",
      "metadata": {
        "id": "fPr5yhZ_b15I",
        "outputId": "77c2d929-6c16-4ef3-b82b-36be84b7fefd",
        "colab": {
          "base_uri": "https://localhost:8080/"
        }
      },
      "source": [
        "# compare samples\n",
        "stat, p = ttest_ind(data1, data2) \n",
        "print('Statistics=%.3f, p=%.3f' % (stat, p))"
      ],
      "execution_count": 24,
      "outputs": [
        {
          "output_type": "stream",
          "text": [
            "Statistics=-2.262, p=0.025\n"
          ],
          "name": "stdout"
        }
      ]
    },
    {
      "cell_type": "code",
      "metadata": {
        "id": "2vlRqlavb0N7",
        "outputId": "2014e331-a3ba-4da0-d485-f7849591d54a",
        "colab": {
          "base_uri": "https://localhost:8080/"
        }
      },
      "source": [
        "alpha = 0.05\n",
        "if p > alpha:\n",
        "  print('Same distributions (fail to reject H0)') \n",
        "else:\n",
        "  print('Different distributions (reject H0)')"
      ],
      "execution_count": 25,
      "outputs": [
        {
          "output_type": "stream",
          "text": [
            "Different distributions (reject H0)\n"
          ],
          "name": "stdout"
        }
      ]
    },
    {
      "cell_type": "code",
      "metadata": {
        "id": "WQSJ1wIsb7Go"
      },
      "source": [
        ""
      ],
      "execution_count": 25,
      "outputs": []
    }
  ]
}